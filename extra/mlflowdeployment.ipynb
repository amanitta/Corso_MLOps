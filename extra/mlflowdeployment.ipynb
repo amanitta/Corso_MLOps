{
 "cells": [
  {
   "cell_type": "markdown",
   "metadata": {},
   "source": [
    "# Reloading the stored model"
   ]
  },
  {
   "cell_type": "code",
   "execution_count": 16,
   "metadata": {},
   "outputs": [],
   "source": [
    "import mlflow\n",
    "import pandas as pd\n",
    "import joblib\n",
    "import mlflow\n",
    "from mlflow.models.signature import infer_signature\n",
    "\n",
    "\n",
    "# load data and model\n",
    "x = pd.read_csv('../data/adult_test.csv').drop(['income'], axis=1)\n",
    "# print(x[:10])\n",
    "# x.describe()\n",
    "# x.dtypes\n",
    "x['age']=x['age'].astype(int)\n",
    "x['hours_per_week']=x['hours_per_week'].astype(int)\n",
    "x['capital_gain']=x['capital_gain'].astype(int)\n",
    "x['capital_loss']=x['capital_loss'].astype(int)\n",
    "\n",
    "clf = joblib.load('../model.pkl')"
   ]
  },
  {
   "cell_type": "code",
   "execution_count": 18,
   "metadata": {},
   "outputs": [],
   "source": [
    "# removing the best model folder if already present\n",
    "!rm -rf ./best_model"
   ]
  },
  {
   "cell_type": "code",
   "execution_count": 19,
   "metadata": {},
   "outputs": [
    {
     "name": "stdout",
     "output_type": "stream",
     "text": [
      "{'age': 39, 'work_class': 'Local-gov', 'education': 'Masters', 'marital_status': 'Married', 'occupation': 'Professional', 'relationship': 'Wife', 'race': 'White', 'sex': 'Female', 'capital_gain': 0, 'capital_loss': 0, 'hours_per_week': 28, 'native_country': 'United-States'}\n"
     ]
    },
    {
     "name": "stderr",
     "output_type": "stream",
     "text": [
      "/home/manne/bin/anaconda3/envs/msbd/lib/python3.8/site-packages/mlflow/models/signature.py:123: UserWarning: Hint: Inferred schema contains integer column(s). Integer columns in Python cannot represent missing values. If your input data contains missing values at inference time, it will be encoded as floats and will cause a schema enforcement error. The best way to avoid this problem is to infer the model schema based on a realistic data sample (training dataset) that includes missing values. Alternatively, you can declare integer columns as doubles (float64) whenever these columns may have missing values. See `Handling Integers With Missing Values <https://www.mlflow.org/docs/latest/models.html#handling-integers-with-missing-values>`_ for more details.\n",
      "  inputs = _infer_schema(model_input)\n"
     ]
    }
   ],
   "source": [
    "signature = infer_signature(x, clf.predict(x))\n",
    "input_example = {}\n",
    "for i in x.columns:\n",
    "    input_example[i] = x[i][0]\n",
    "\n",
    "print(input_example)\n",
    "\n",
    "mlflow.sklearn.save_model(clf, \"best_model\", signature=signature, input_example=input_example)"
   ]
  },
  {
   "cell_type": "code",
   "execution_count": 20,
   "metadata": {},
   "outputs": [],
   "source": [
    "saved_model_path=\"./best_model\"\n",
    "reloaded_model = mlflow.sklearn.load_model(model_uri=saved_model_path)"
   ]
  },
  {
   "cell_type": "code",
   "execution_count": 21,
   "metadata": {},
   "outputs": [],
   "source": [
    "test_csv_path = '../data/adult_test.csv'\n",
    "test_dataset = pd.read_csv(test_csv_path)\n",
    "target_column = 'income'\n",
    "y_test = test_dataset[target_column]\n",
    "x_test = test_dataset.drop(target_column, axis=1)\n"
   ]
  },
  {
   "cell_type": "code",
   "execution_count": 22,
   "metadata": {},
   "outputs": [
    {
     "name": "stdout",
     "output_type": "stream",
     "text": [
      "0.842814667988107\n"
     ]
    }
   ],
   "source": [
    "print(reloaded_model.score(x_test,y_test))"
   ]
  },
  {
   "cell_type": "markdown",
   "metadata": {},
   "source": [
    "# Creating a docker container from the stored model"
   ]
  },
  {
   "cell_type": "markdown",
   "metadata": {},
   "source": [
    "We can build a docker image containing the model using mlflow's cli:\n",
    "\n",
    "!mlflow models build-docker -m \"./best_model\" -n \"random_forest_adult\"\n"
   ]
  },
  {
   "cell_type": "code",
   "execution_count": 4,
   "metadata": {},
   "outputs": [],
   "source": [
    "#docker run -p 5001:8080 random_forest_adult"
   ]
  },
  {
   "cell_type": "code",
   "execution_count": 4,
   "metadata": {
    "scrolled": true
   },
   "outputs": [
    {
     "name": "stdout",
     "output_type": "stream",
     "text": [
      "{'columns': ['age', 'work_class', 'education', 'marital_status', 'occupation', 'relationship', 'race', 'sex', 'capital_gain', 'capital_loss', 'hours_per_week', 'native_country'], 'data': [[39, 'Local-gov', 'Masters', 'Married', 'Professional', 'Wife', 'White', 'Female', 0, 0, 28, 'United-States']]}\n"
     ]
    }
   ],
   "source": [
    "import requests\n",
    "import json\n",
    "\n",
    "\n",
    "with open('./best_model/input_example.json') as f:\n",
    "    sample_input = json.load(f)\n",
    "\n",
    "#sample_input['data'][0][0]=50 # changing age value\n",
    "#sample_input['data'][0][3]='Married' # changing age value\n",
    "#sample_input['data'][0][5]='Husband' # changing age value\n",
    "print(sample_input)"
   ]
  },
  {
   "cell_type": "code",
   "execution_count": 5,
   "metadata": {},
   "outputs": [
    {
     "name": "stdout",
     "output_type": "stream",
     "text": [
      "Predicted income: <=50K\n"
     ]
    }
   ],
   "source": [
    "response = requests.post(\n",
    "              url='http://127.0.0.1:5001/invocations', data=json.dumps(sample_input),\n",
    "              headers={\"Content-type\": \"application/json\"})\n",
    "response_json = json.loads(response.text)\n",
    "print('Predicted income: '+response_json[0])"
   ]
  }
 ],
 "metadata": {
  "kernelspec": {
   "display_name": "Python 3",
   "language": "python",
   "name": "python3"
  },
  "language_info": {
   "codemirror_mode": {
    "name": "ipython",
    "version": 3
   },
   "file_extension": ".py",
   "mimetype": "text/x-python",
   "name": "python",
   "nbconvert_exporter": "python",
   "pygments_lexer": "ipython3",
   "version": "3.8.2"
  }
 },
 "nbformat": 4,
 "nbformat_minor": 4
}
